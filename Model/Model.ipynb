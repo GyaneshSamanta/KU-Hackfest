{
 "cells": [
  {
   "cell_type": "code",
   "execution_count": 1,
   "id": "6fd47c57",
   "metadata": {},
   "outputs": [],
   "source": [
    "import tensorflow as tf\n",
    "from keras.preprocessing.image import ImageDataGenerator"
   ]
  },
  {
   "cell_type": "code",
   "execution_count": 2,
   "id": "01b2392b",
   "metadata": {},
   "outputs": [
    {
     "data": {
      "text/plain": [
       "'2.9.1'"
      ]
     },
     "execution_count": 2,
     "metadata": {},
     "output_type": "execute_result"
    }
   ],
   "source": [
    "tf.__version__"
   ]
  },
  {
   "cell_type": "code",
   "execution_count": 3,
   "id": "b6f08686",
   "metadata": {},
   "outputs": [
    {
     "name": "stdout",
     "output_type": "stream",
     "text": [
      "Found 70295 images belonging to 38 classes.\n"
     ]
    }
   ],
   "source": [
    "train_datagen = ImageDataGenerator(rescale = 1./255)\n",
    "train_set = train_datagen.flow_from_directory('D:/DS/Plant Disease Recognition/New Plant Diseases Dataset(Augmented)/New Plant Diseases Dataset(Augmented)/train',\n",
    "                                             target_size = (64,64),\n",
    "                                             class_mode = 'sparse')"
   ]
  },
  {
   "cell_type": "code",
   "execution_count": 4,
   "id": "3f0d9339",
   "metadata": {},
   "outputs": [
    {
     "name": "stdout",
     "output_type": "stream",
     "text": [
      "Found 17572 images belonging to 38 classes.\n"
     ]
    }
   ],
   "source": [
    "test_datagen = ImageDataGenerator(rescale = 1./255)\n",
    "test_set = test_datagen.flow_from_directory('D:/DS/Plant Disease Recognition/New Plant Diseases Dataset(Augmented)/New Plant Diseases Dataset(Augmented)/valid',\n",
    "                                           target_size = (64,64),\n",
    "                                           class_mode = 'sparse')"
   ]
  },
  {
   "cell_type": "code",
   "execution_count": 5,
   "id": "e5957e50",
   "metadata": {},
   "outputs": [],
   "source": [
    "model0 = tf.keras.Sequential()\n",
    "model0.add(tf.keras.layers.Conv2D(filters = 32, kernel_size = 3, activation = 'relu', input_shape = [64,64,3]))\n",
    "model0.add(tf.keras.layers.MaxPool2D(pool_size = 2, strides = 2))\n",
    "model0.add(tf.keras.layers.Conv2D(filters = 32, kernel_size = 3, activation = 'relu'))\n",
    "model0.add(tf.keras.layers.MaxPool2D(pool_size = 2, strides = 2))\n",
    "model0.add(tf.keras.layers.Flatten())\n",
    "model0.add(tf.keras.layers.Dense(units = 128,activation = 'relu'))\n",
    "model0.add(tf.keras.layers.Dense(units = 38, activation = 'softmax'))"
   ]
  },
  {
   "cell_type": "code",
   "execution_count": 6,
   "id": "b0819ec3",
   "metadata": {},
   "outputs": [
    {
     "name": "stdout",
     "output_type": "stream",
     "text": [
      "Model: \"sequential\"\n",
      "_________________________________________________________________\n",
      " Layer (type)                Output Shape              Param #   \n",
      "=================================================================\n",
      " conv2d (Conv2D)             (None, 62, 62, 32)        896       \n",
      "                                                                 \n",
      " max_pooling2d (MaxPooling2D  (None, 31, 31, 32)       0         \n",
      " )                                                               \n",
      "                                                                 \n",
      " conv2d_1 (Conv2D)           (None, 29, 29, 32)        9248      \n",
      "                                                                 \n",
      " max_pooling2d_1 (MaxPooling  (None, 14, 14, 32)       0         \n",
      " 2D)                                                             \n",
      "                                                                 \n",
      " flatten (Flatten)           (None, 6272)              0         \n",
      "                                                                 \n",
      " dense (Dense)               (None, 128)               802944    \n",
      "                                                                 \n",
      " dense_1 (Dense)             (None, 38)                4902      \n",
      "                                                                 \n",
      "=================================================================\n",
      "Total params: 817,990\n",
      "Trainable params: 817,990\n",
      "Non-trainable params: 0\n",
      "_________________________________________________________________\n"
     ]
    }
   ],
   "source": [
    "model0.compile(optimizer = 'adam', loss = 'sparse_categorical_crossentropy', metrics = ['accuracy'])\n",
    "model0.summary()"
   ]
  },
  {
   "cell_type": "code",
   "execution_count": 7,
   "id": "e090b76f",
   "metadata": {},
   "outputs": [
    {
     "name": "stdout",
     "output_type": "stream",
     "text": [
      "Epoch 1/25\n",
      "2197/2197 [==============================] - 354s 161ms/step - loss: 1.0659 - accuracy: 0.6857 - val_loss: 0.6097 - val_accuracy: 0.8065\n",
      "Epoch 2/25\n",
      "2197/2197 [==============================] - 127s 58ms/step - loss: 0.4430 - accuracy: 0.8605 - val_loss: 0.4218 - val_accuracy: 0.8664\n",
      "Epoch 3/25\n",
      "2197/2197 [==============================] - 127s 58ms/step - loss: 0.3066 - accuracy: 0.9004 - val_loss: 0.4149 - val_accuracy: 0.8672\n",
      "Epoch 4/25\n",
      "2197/2197 [==============================] - 127s 58ms/step - loss: 0.2300 - accuracy: 0.9249 - val_loss: 0.3249 - val_accuracy: 0.8989\n",
      "Epoch 5/25\n",
      "2197/2197 [==============================] - 126s 58ms/step - loss: 0.1830 - accuracy: 0.9391 - val_loss: 0.3424 - val_accuracy: 0.8949\n",
      "Epoch 6/25\n",
      "2197/2197 [==============================] - 126s 58ms/step - loss: 0.1472 - accuracy: 0.9504 - val_loss: 0.3219 - val_accuracy: 0.9075\n",
      "Epoch 7/25\n",
      "2197/2197 [==============================] - 126s 57ms/step - loss: 0.1186 - accuracy: 0.9598 - val_loss: 0.3489 - val_accuracy: 0.9050\n",
      "Epoch 8/25\n",
      "2197/2197 [==============================] - 127s 58ms/step - loss: 0.1017 - accuracy: 0.9653 - val_loss: 0.4832 - val_accuracy: 0.8796\n",
      "Epoch 9/25\n",
      "2197/2197 [==============================] - 126s 57ms/step - loss: 0.0866 - accuracy: 0.9698 - val_loss: 0.3779 - val_accuracy: 0.9065\n",
      "Epoch 10/25\n",
      "2197/2197 [==============================] - 126s 57ms/step - loss: 0.0826 - accuracy: 0.9723 - val_loss: 0.4935 - val_accuracy: 0.8859\n",
      "Epoch 11/25\n",
      "2197/2197 [==============================] - 126s 57ms/step - loss: 0.0721 - accuracy: 0.9750 - val_loss: 0.4461 - val_accuracy: 0.9011\n",
      "Epoch 12/25\n",
      "2197/2197 [==============================] - 126s 57ms/step - loss: 0.0646 - accuracy: 0.9786 - val_loss: 0.4400 - val_accuracy: 0.9051\n",
      "Epoch 13/25\n",
      "2197/2197 [==============================] - 847s 386ms/step - loss: 0.0608 - accuracy: 0.9804 - val_loss: 0.4715 - val_accuracy: 0.9029\n",
      "Epoch 14/25\n",
      "2197/2197 [==============================] - 129s 59ms/step - loss: 0.0639 - accuracy: 0.9797 - val_loss: 0.5241 - val_accuracy: 0.8916\n",
      "Epoch 15/25\n",
      "2197/2197 [==============================] - 127s 58ms/step - loss: 0.0574 - accuracy: 0.9810 - val_loss: 0.4511 - val_accuracy: 0.9095\n",
      "Epoch 16/25\n",
      "2197/2197 [==============================] - 127s 58ms/step - loss: 0.0533 - accuracy: 0.9828 - val_loss: 0.4613 - val_accuracy: 0.9075\n",
      "Epoch 17/25\n",
      "2197/2197 [==============================] - 127s 58ms/step - loss: 0.0512 - accuracy: 0.9832 - val_loss: 0.5537 - val_accuracy: 0.9011\n",
      "Epoch 18/25\n",
      "2197/2197 [==============================] - 128s 58ms/step - loss: 0.0476 - accuracy: 0.9846 - val_loss: 0.5142 - val_accuracy: 0.9055\n",
      "Epoch 19/25\n",
      "2197/2197 [==============================] - 127s 58ms/step - loss: 0.0444 - accuracy: 0.9854 - val_loss: 0.6350 - val_accuracy: 0.8864\n",
      "Epoch 20/25\n",
      "2197/2197 [==============================] - 127s 58ms/step - loss: 0.0456 - accuracy: 0.9861 - val_loss: 0.5394 - val_accuracy: 0.9047\n",
      "Epoch 21/25\n",
      "2197/2197 [==============================] - 127s 58ms/step - loss: 0.0466 - accuracy: 0.9855 - val_loss: 0.6341 - val_accuracy: 0.8881\n",
      "Epoch 22/25\n",
      "2197/2197 [==============================] - 127s 58ms/step - loss: 0.0392 - accuracy: 0.9875 - val_loss: 0.5311 - val_accuracy: 0.9110\n",
      "Epoch 23/25\n",
      "2197/2197 [==============================] - 127s 58ms/step - loss: 0.0431 - accuracy: 0.9867 - val_loss: 0.4755 - val_accuracy: 0.9186\n",
      "Epoch 24/25\n",
      "2197/2197 [==============================] - 127s 58ms/step - loss: 0.0368 - accuracy: 0.9885 - val_loss: 0.5602 - val_accuracy: 0.9087\n",
      "Epoch 25/25\n",
      "2197/2197 [==============================] - 127s 58ms/step - loss: 0.0385 - accuracy: 0.9880 - val_loss: 0.6033 - val_accuracy: 0.9051\n"
     ]
    }
   ],
   "source": [
    "history = model0.fit(train_set, validation_data = test_set, epochs = 25)"
   ]
  },
  {
   "cell_type": "code",
   "execution_count": 8,
   "id": "ffc15fb5",
   "metadata": {},
   "outputs": [
    {
     "data": {
      "text/plain": [
       "{'Apple___Apple_scab': 0,\n",
       " 'Apple___Black_rot': 1,\n",
       " 'Apple___Cedar_apple_rust': 2,\n",
       " 'Apple___healthy': 3,\n",
       " 'Blueberry___healthy': 4,\n",
       " 'Cherry_(including_sour)___Powdery_mildew': 5,\n",
       " 'Cherry_(including_sour)___healthy': 6,\n",
       " 'Corn_(maize)___Cercospora_leaf_spot Gray_leaf_spot': 7,\n",
       " 'Corn_(maize)___Common_rust_': 8,\n",
       " 'Corn_(maize)___Northern_Leaf_Blight': 9,\n",
       " 'Corn_(maize)___healthy': 10,\n",
       " 'Grape___Black_rot': 11,\n",
       " 'Grape___Esca_(Black_Measles)': 12,\n",
       " 'Grape___Leaf_blight_(Isariopsis_Leaf_Spot)': 13,\n",
       " 'Grape___healthy': 14,\n",
       " 'Orange___Haunglongbing_(Citrus_greening)': 15,\n",
       " 'Peach___Bacterial_spot': 16,\n",
       " 'Peach___healthy': 17,\n",
       " 'Pepper,_bell___Bacterial_spot': 18,\n",
       " 'Pepper,_bell___healthy': 19,\n",
       " 'Potato___Early_blight': 20,\n",
       " 'Potato___Late_blight': 21,\n",
       " 'Potato___healthy': 22,\n",
       " 'Raspberry___healthy': 23,\n",
       " 'Soybean___healthy': 24,\n",
       " 'Squash___Powdery_mildew': 25,\n",
       " 'Strawberry___Leaf_scorch': 26,\n",
       " 'Strawberry___healthy': 27,\n",
       " 'Tomato___Bacterial_spot': 28,\n",
       " 'Tomato___Early_blight': 29,\n",
       " 'Tomato___Late_blight': 30,\n",
       " 'Tomato___Leaf_Mold': 31,\n",
       " 'Tomato___Septoria_leaf_spot': 32,\n",
       " 'Tomato___Spider_mites Two-spotted_spider_mite': 33,\n",
       " 'Tomato___Target_Spot': 34,\n",
       " 'Tomato___Tomato_Yellow_Leaf_Curl_Virus': 35,\n",
       " 'Tomato___Tomato_mosaic_virus': 36,\n",
       " 'Tomato___healthy': 37}"
      ]
     },
     "execution_count": 8,
     "metadata": {},
     "output_type": "execute_result"
    }
   ],
   "source": [
    "test_set.class_indices"
   ]
  },
  {
   "cell_type": "code",
   "execution_count": 10,
   "id": "dfdf973d",
   "metadata": {},
   "outputs": [
    {
     "data": {
      "image/png": "[encoded data removed]",
      "text/plain": [
       "<Figure size 432x288 with 1 Axes>"
      ]
     },
     "metadata": {
      "needs_background": "light"
     },
     "output_type": "display_data"
    }
   ],
   "source": [
    "from matplotlib import pyplot as plt\n",
    "import numpy as np \n",
    "\n",
    "epochs = list(range(25))\n",
    "acc = history.history['accuracy']\n",
    "val_acc = history.history['val_accuracy']\n",
    "\n",
    "plt.plot(epochs, acc, label='train accuracy')\n",
    "plt.plot(epochs, val_acc, label='val accuracy')\n",
    "plt.xlabel('epochs')\n",
    "plt.ylabel('accuracy')\n",
    "plt.legend()\n",
    "plt.show()"
   ]
  },
  {
   "cell_type": "code",
   "execution_count": 23,
   "id": "cd5c1d54",
   "metadata": {},
   "outputs": [
    {
     "data": {
      "image/png": "[encoded data removed]",
      "text/plain": [
       "<Figure size 432x288 with 1 Axes>"
      ]
     },
     "metadata": {
      "needs_background": "light"
     },
     "output_type": "display_data"
    }
   ],
   "source": [
    "loss = history.history['loss']\n",
    "val_loss = history.history['val_loss']\n",
    "\n",
    "plt.plot(epochs, loss, label='Train loss')\n",
    "plt.plot(epochs, val_loss, label='Val loss')\n",
    "plt.xlabel('epochs')\n",
    "plt.ylabel('Loss')\n",
    "plt.legend()\n",
    "plt.show()"
   ]
  },
  {
   "cell_type": "code",
   "execution_count": 24,
   "id": "edbda98f",
   "metadata": {},
   "outputs": [
    {
     "name": "stdout",
     "output_type": "stream",
     "text": [
      "1/1 [==============================] - 0s 15ms/step\n"
     ]
    },
    {
     "data": {
      "text/plain": [
       "array([[0., 0., 0., 0., 0., 0., 0., 0., 0., 0., 0., 0., 0., 0., 0., 0.,\n",
       "        0., 0., 0., 0., 0., 0., 0., 0., 0., 0., 0., 0., 0., 0., 0., 0.,\n",
       "        0., 0., 0., 0., 0., 1.]], dtype=float32)"
      ]
     },
     "execution_count": 24,
     "metadata": {},
     "output_type": "execute_result"
    }
   ],
   "source": [
    "from keras.preprocessing import image\n",
    "\n",
    "test_img = tf.keras.utils.load_img('D:/DS/Plant Disease Recognition/test/test/TomatoHealthy1.jpg',target_size = (64,64))\n",
    "test_img = tf.keras.preprocessing.image.img_to_array(test_img)\n",
    "test_img = np.expand_dims(test_img, axis = 0)\n",
    "result = model0.predict(test_img)\n",
    "result"
   ]
  },
  {
   "cell_type": "code",
   "execution_count": 25,
   "id": "b3960017",
   "metadata": {},
   "outputs": [
    {
     "name": "stdout",
     "output_type": "stream",
     "text": [
      "37\n"
     ]
    }
   ],
   "source": [
    "print(np.argmax(result))"
   ]
  }
 ],
 "metadata": {
  "kernelspec": {
   "display_name": "NN",
   "language": "python",
   "name": "nn"
  },
  "language_info": {
   "codemirror_mode": {
    "name": "ipython",
    "version": 3
   },
   "file_extension": ".py",
   "mimetype": "text/x-python",
   "name": "python",
   "nbconvert_exporter": "python",
   "pygments_lexer": "ipython3",
   "version": "3.10.2"
  }
 },
 "nbformat": 4,
 "nbformat_minor": 5
}
